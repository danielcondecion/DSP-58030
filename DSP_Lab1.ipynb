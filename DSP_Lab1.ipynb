{
 "cells": [
  {
   "cell_type": "code",
   "execution_count": 8,
   "id": "a38eac17-a73f-4df8-92b4-9f5472691328",
   "metadata": {},
   "outputs": [
    {
     "name": "stdin",
     "output_type": "stream",
     "text": [
      "Enter your Name:  dan\n",
      "Enter your Course Name:  cpe\n",
      "Enter your Prelim Grade:  50\n",
      "Enter your Midterm Grade:  60\n",
      "Enter your Finals Grade:  61\n"
     ]
    },
    {
     "name": "stdout",
     "output_type": "stream",
     "text": [
      "\n",
      "Student Name: dan\n",
      "Course Name: cpe\n",
      "\n",
      "\tPrelim Grade: \t50.0\n",
      "\tMidterm Grade: \t60.0\n",
      "\tFinals Grade: \t61.0\n",
      "\n",
      "\tSEMESTER GRADE: 57.40\n",
      "\n",
      "My reaction is  😭\n"
     ]
    },
    {
     "name": "stdin",
     "output_type": "stream",
     "text": [
      "\n",
      "Do you want to see your equivalent grade? (Y/N):  y\n"
     ]
    },
    {
     "name": "stdout",
     "output_type": "stream",
     "text": [
      "\n",
      "\tYour Grade Point Equivalent is  5.00\n"
     ]
    }
   ],
   "source": [
    "def get_letter_input(prompt):\n",
    "    while True:\n",
    "        user_input = input(prompt)\n",
    "        if user_input.isalpha():\n",
    "            return user_input\n",
    "        else:\n",
    "            print(\"Invalid input. Please enter letters only.\")\n",
    "\n",
    "def get_number_input(prompt):\n",
    "    while True:\n",
    "        try:\n",
    "            return float(input(prompt))\n",
    "        except ValueError:\n",
    "            print(\"Invalid input. Please enter a number.\")\n",
    "\n",
    "student_name = get_letter_input(\"Enter your Name: \")\n",
    "course_name = get_letter_input(\"Enter your Course Name: \")\n",
    "\n",
    "prelim = get_number_input(\"Enter your Prelim Grade: \")\n",
    "midterm = get_number_input(\"Enter your Midterm Grade: \")\n",
    "finals = get_number_input(\"Enter your Finals Grade: \")\n",
    "\n",
    "sem_grade = (prelim * 0.3) + (midterm * 0.3) + (finals * 0.4)\n",
    "\n",
    "print(\"\\nStudent Name: {}\\\n",
    "\\nCourse Name: {}\\\n",
    "\\n\\n\\tPrelim Grade: \\t{}\\\n",
    "\\n\\tMidterm Grade: \\t{}\\\n",
    "\\n\\tFinals Grade: \\t{}\\\n",
    "\\n\\n\\tSEMESTER GRADE: {:.2f}\".format(student_name, course_name, prelim, midterm, finals, sem_grade))\n",
    "\n",
    "def emoji(sem_grade):\n",
    "    happy, lol, sad = \"\\U0001F600\", \"\\U0001F606\", \"\\U0001F62D\"\n",
    "    if sem_grade > 70.00:\n",
    "        return happy\n",
    "    elif sem_grade == 70.00:\n",
    "        return lol\n",
    "    else:\n",
    "        return sad\n",
    "\n",
    "print(\"\\nMy reaction is \", emoji(sem_grade))\n",
    "\n",
    "def equal_grade(sem_grade):\n",
    "    if sem_grade >= 97.00 and sem_grade <= 100:\n",
    "        return \"1.00\"\n",
    "    elif sem_grade >= 93.00 and sem_grade <= 96.99:\n",
    "        return \"1.25\"\n",
    "    elif sem_grade >= 89.00 and sem_grade <= 92.99:\n",
    "        return \"1.50\"\n",
    "    elif sem_grade >= 85.00 and sem_grade <= 88.99:\n",
    "        return \"1.75\"\n",
    "    elif sem_grade >= 82.00 and sem_grade <= 84.99:\n",
    "        return \"2.00\"\n",
    "    elif sem_grade >= 79.00 and sem_grade <= 81.99:\n",
    "        return \"2.25\"\n",
    "    elif sem_grade >= 76.00 and sem_grade <= 78.99:\n",
    "        return \"2.50\"\n",
    "    elif sem_grade >= 73.00 and sem_grade <= 75.99:\n",
    "        return \"2.75\"\n",
    "    elif sem_grade >= 70.00 and sem_grade <= 72.99:\n",
    "        return \"3.00\"\n",
    "    else:\n",
    "        return \"5.00\"\n",
    "\n",
    "while True:\n",
    "    show_grade = input(\"\\nDo you want to see your equivalent grade? (Y/N): \")\n",
    "    if show_grade.lower() == \"y\":\n",
    "        print(\"\\n\\tYour Grade Point Equivalent is \", equal_grade(sem_grade))\n",
    "        break\n",
    "    elif show_grade.lower() == \"n\":\n",
    "        print(\"Thank you so much.\")\n",
    "        break\n",
    "    else:\n",
    "        print(\"Wrong input.\\n\")"
   ]
  },
  {
   "cell_type": "code",
   "execution_count": null,
   "id": "1aa8f6b3-1b71-4494-9939-e41704fa92f0",
   "metadata": {},
   "outputs": [],
   "source": []
  },
  {
   "cell_type": "code",
   "execution_count": null,
   "id": "69a62378-eff3-459a-a157-f0f5e52d5439",
   "metadata": {},
   "outputs": [],
   "source": []
  }
 ],
 "metadata": {
  "kernelspec": {
   "display_name": "Python 3 (ipykernel)",
   "language": "python",
   "name": "python3"
  },
  "language_info": {
   "codemirror_mode": {
    "name": "ipython",
    "version": 3
   },
   "file_extension": ".py",
   "mimetype": "text/x-python",
   "name": "python",
   "nbconvert_exporter": "python",
   "pygments_lexer": "ipython3",
   "version": "3.12.4"
  }
 },
 "nbformat": 4,
 "nbformat_minor": 5
}
